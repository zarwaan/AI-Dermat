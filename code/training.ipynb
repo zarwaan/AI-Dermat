{
 "cells": [
  {
   "cell_type": "code",
   "execution_count": 2,
   "metadata": {},
   "outputs": [],
   "source": [
    "import tensorflow as tf\n",
    "from tensorflow.keras import models, layers\n",
    "import matplotlib.pyplot as plt"
   ]
  },
  {
   "cell_type": "code",
   "execution_count": 59,
   "metadata": {},
   "outputs": [],
   "source": [
    "EPOCHS = 20"
   ]
  },
  {
   "cell_type": "code",
   "execution_count": 3,
   "metadata": {},
   "outputs": [
    {
     "name": "stdout",
     "output_type": "stream",
     "text": [
      "Found 2784 files belonging to 3 classes.\n"
     ]
    }
   ],
   "source": [
    "dataset = tf.keras.preprocessing.image_dataset_from_directory(\n",
    "    # \"..\\\\dataset\\\\train\",\n",
    "    \"..\\\\dataset_new\\\\train\",\n",
    "    shuffle = True,\n",
    "    batch_size = 32,\n",
    ")"
   ]
  },
  {
   "cell_type": "code",
   "execution_count": null,
   "metadata": {},
   "outputs": [],
   "source": [
    "class_names = dataset.class_names\n",
    "class_names"
   ]
  },
  {
   "cell_type": "code",
   "execution_count": null,
   "metadata": {},
   "outputs": [],
   "source": [
    "len(dataset)"
   ]
  },
  {
   "cell_type": "code",
   "execution_count": null,
   "metadata": {},
   "outputs": [],
   "source": [
    "plt.figure(figsize=(10,10))\n",
    "for image_batch, label_batch in dataset.take(1):\n",
    "    for i in range(12):\n",
    "        ax= plt.subplot(3,4,i+1)\n",
    "        plt.imshow(image_batch[i].numpy().astype('uint8'))\n",
    "        plt.title(class_names[label_batch[i]])"
   ]
  },
  {
   "cell_type": "code",
   "execution_count": 64,
   "metadata": {},
   "outputs": [],
   "source": [
    "def get_dataset_partitions_tf(ds, train_split=0.9, val_split=0.1, shuffle = True, shuffle_size=10000):\n",
    "    ds_size = len(ds)\n",
    "\n",
    "    if shuffle: \n",
    "        ds.shuffle(shuffle_size, seed=12)\n",
    "    \n",
    "    train_size = int(train_split*ds_size) \n",
    "    val_size = int(val_split*ds_size)\n",
    "\n",
    "    train_ds = ds.take(train_size) \n",
    "    val_ds = ds.skip(train_size).take(val_size) \n",
    "\n",
    "    test_ds = tf.keras.preprocessing.image_dataset_from_directory(\n",
    "                # \"..\\\\dataset\\\\test\",\n",
    "                \"..\\\\dataset_new\\\\test\",\n",
    "                shuffle = True,\n",
    "                batch_size = 32,\n",
    "            )\n",
    "\n",
    "    return train_ds, val_ds, test_ds"
   ]
  },
  {
   "cell_type": "code",
   "execution_count": null,
   "metadata": {},
   "outputs": [],
   "source": [
    "train_ds, val_ds, test_ds = get_dataset_partitions_tf(dataset)"
   ]
  },
  {
   "cell_type": "code",
   "execution_count": null,
   "metadata": {},
   "outputs": [],
   "source": [
    "len(train_ds)"
   ]
  },
  {
   "cell_type": "code",
   "execution_count": null,
   "metadata": {},
   "outputs": [],
   "source": [
    "len(val_ds)"
   ]
  },
  {
   "cell_type": "code",
   "execution_count": null,
   "metadata": {},
   "outputs": [],
   "source": [
    "len(test_ds)"
   ]
  },
  {
   "cell_type": "code",
   "execution_count": 69,
   "metadata": {},
   "outputs": [],
   "source": [
    "train_ds = train_ds.cache().shuffle(1000).prefetch(buffer_size=tf.data.AUTOTUNE)\n",
    "val_ds = val_ds.cache().shuffle(1000).prefetch(buffer_size=tf.data.AUTOTUNE)\n",
    "test_ds = test_ds.cache().shuffle(1000).prefetch(buffer_size=tf.data.AUTOTUNE)"
   ]
  },
  {
   "cell_type": "code",
   "execution_count": 70,
   "metadata": {},
   "outputs": [],
   "source": [
    "resize_and_rescale = tf.keras.Sequential([\n",
    "    tf.keras.layers.experimental.preprocessing.Resizing(256,256),\n",
    "    tf.keras.layers.experimental.preprocessing.Rescaling(1.0/255),\n",
    "])"
   ]
  },
  {
   "cell_type": "code",
   "execution_count": 3,
   "metadata": {},
   "outputs": [
    {
     "data": {
      "text/plain": [
       "'2.13.1'"
      ]
     },
     "execution_count": 3,
     "metadata": {},
     "output_type": "execute_result"
    }
   ],
   "source": [
    "tf.__version__"
   ]
  },
  {
   "cell_type": "code",
   "execution_count": 72,
   "metadata": {},
   "outputs": [],
   "source": [
    "data_augementation = tf.keras.Sequential([\n",
    "    tf.keras.layers.experimental.preprocessing.RandomFlip(\"horizontal_and_vertical\"),\n",
    "    tf.keras.layers.experimental.preprocessing.RandomRotation(0.2),\n",
    "])"
   ]
  },
  {
   "cell_type": "code",
   "execution_count": 73,
   "metadata": {},
   "outputs": [],
   "source": [
    "input_shape = (256, 256, 3)\n",
    "num_classes = 3\n",
    "\n",
    "# model = tf.keras.models.Sequential([\n",
    "#     resize_and_rescale,\n",
    "#     data_augementation,\n",
    "#     tf.keras.layers.Conv2D(32, (3,3), activation='relu', input_shape=input_shape),\n",
    "#     tf.keras.layers.MaxPooling2D((2,2)),\n",
    "#     tf.keras.layers.Conv2D(64, kernel_size=(3,3), activation='relu'),\n",
    "#     tf.keras.layers.MaxPooling2D((2,2)),\n",
    "#     tf.keras.layers.Conv2D(64, kernel_size=(3,3), activation='relu'),\n",
    "#     tf.keras.layers.MaxPooling2D((2,2)),\n",
    "#     tf.keras.layers.Conv2D(64, kernel_size=(3,3), activation='relu'),\n",
    "#     tf.keras.layers.MaxPooling2D((2,2)),\n",
    "#     tf.keras.layers.Conv2D(64, kernel_size=(3,3), activation='relu'),\n",
    "#     tf.keras.layers.MaxPooling2D((2,2)),\n",
    "#     tf.keras.layers.Conv2D(64, kernel_size=(3,3), activation='relu'),\n",
    "#     tf.keras.layers.MaxPooling2D((2,2)),\n",
    "\n",
    "#     tf.keras.layers.Flatten(),\n",
    "#     tf.keras.layers.Dense(64, activation='relu'),\n",
    "#     tf.keras.layers.Dense(num_classes, activation='softmax'),\n",
    "# ])\n",
    "\n",
    "# VGG16 model\n",
    "# vgg_model = tf.keras.applications.VGG16(include_top=False, weights='imagenet', input_shape=input_shape)\n",
    "\n",
    "# ResNet model\n",
    "resnet_model = tf.keras.applications.ResNet50(include_top=False, weights='imagenet', input_shape=input_shape)\n",
    "\n",
    "for layer in resnet_model.layers:\n",
    "    layer.trainable=False\n",
    "\n",
    "model = tf.keras.models.Sequential([\n",
    "    # resize_and_rescale,\n",
    "    # data_augementation,\n",
    "    resnet_model,\n",
    "    tf.keras.layers.Flatten(),\n",
    "    tf.keras.layers.Dense(64, activation='relu'),\n",
    "                        #   kernel_regularizer=tf.keras.regularizers.l2(0.01)), # new\n",
    "\n",
    "    # tf.keras.layers.Dropout(0.3), # new\n",
    "    tf.keras.layers.Dense(num_classes, activation='softmax'),\n",
    "\n",
    "])\n",
    "\n",
    "model.build(input_shape=(None,256,256,3))"
   ]
  },
  {
   "cell_type": "code",
   "execution_count": null,
   "metadata": {},
   "outputs": [],
   "source": [
    "model.summary()"
   ]
  },
  {
   "cell_type": "code",
   "execution_count": 75,
   "metadata": {},
   "outputs": [],
   "source": [
    "model.compile(\n",
    "    optimizer = 'adam',\n",
    "    loss = tf.keras.losses.SparseCategoricalCrossentropy(from_logits=False),\n",
    "    metrics = ['accuracy'],\n",
    ")"
   ]
  },
  {
   "cell_type": "code",
   "execution_count": 263,
   "metadata": {},
   "outputs": [],
   "source": [
    "# early_stopping_callback = tf.keras.callbacks.EarlyStopping(monitor='val_loss',patience=3,restore_best_weights=True) # new"
   ]
  },
  {
   "cell_type": "code",
   "execution_count": null,
   "metadata": {},
   "outputs": [],
   "source": [
    "history = model.fit(\n",
    "    train_ds,\n",
    "    epochs=EPOCHS,\n",
    "    batch_size=32,\n",
    "    verbose=1,\n",
    "    validation_data=val_ds,\n",
    "    # callbacks=[early_stopping_callback] # new\n",
    ")"
   ]
  },
  {
   "cell_type": "code",
   "execution_count": null,
   "metadata": {},
   "outputs": [],
   "source": [
    "scores = model.evaluate(test_ds)"
   ]
  },
  {
   "cell_type": "code",
   "execution_count": null,
   "metadata": {},
   "outputs": [],
   "source": [
    "scores"
   ]
  },
  {
   "cell_type": "code",
   "execution_count": null,
   "metadata": {},
   "outputs": [],
   "source": [
    "history"
   ]
  },
  {
   "cell_type": "code",
   "execution_count": null,
   "metadata": {},
   "outputs": [],
   "source": [
    "history.params"
   ]
  },
  {
   "cell_type": "code",
   "execution_count": 81,
   "metadata": {},
   "outputs": [],
   "source": [
    "acc = history.history['accuracy']\n",
    "val_acc = history.history['val_accuracy']\n",
    "\n",
    "loss = history.history['loss']\n",
    "val_loss = history.history['val_loss']"
   ]
  },
  {
   "cell_type": "code",
   "execution_count": null,
   "metadata": {},
   "outputs": [],
   "source": [
    "plt.figure(figsize=(8, 8)) \n",
    "plt.subplot(1, 2, 1) \n",
    "plt.plot(range (EPOCHS), acc, label='Training Accuracy') \n",
    "plt.plot(range (EPOCHS), val_acc, label='Validation Accuracy') \n",
    "plt.legend(loc='lower right') \n",
    "plt.title('Training and Validation Accuracy')\n",
    "\n",
    "plt.subplot(1, 2, 2) \n",
    "plt.plot(range (EPOCHS), loss, label='Training Loss') \n",
    "plt.plot(range (EPOCHS), val_loss, label='Validation Loss') \n",
    "plt.legend(loc='upper right') \n",
    "plt.title('Training and Validation Loss')\n",
    "plt.show()"
   ]
  },
  {
   "cell_type": "code",
   "execution_count": null,
   "metadata": {},
   "outputs": [],
   "source": [
    "import numpy as np\n",
    "for images_batch, labels_batch in test_ds.take(1): \n",
    "    first_image = images_batch[0].numpy().astype('uint8') \n",
    "    first_label = labels_batch[0].numpy() \n",
    "    print(\"first image to predict\")\n",
    "    plt.imshow(first_image) \n",
    "    print(\"actual label:\", class_names[first_label]) \n",
    "    batch_prediction = model.predict(images_batch) \n",
    "    print(\"predicted label: \", class_names[np.argmax(batch_prediction[0])])"
   ]
  },
  {
   "cell_type": "code",
   "execution_count": 86,
   "metadata": {},
   "outputs": [],
   "source": [
    "def predict (model, img): \n",
    "    img_array = tf.keras.preprocessing.image.img_to_array(img) \n",
    "    img_array = tf.expand_dims(img_array, 0) # Create a batch \n",
    "\n",
    "    predictions = model.predict(img_array) \n",
    "    predicted_class = class_names[np.argmax(predictions[0])] \n",
    "    confidence = round(100 * (np.max(predictions[0])), 2) \n",
    "    \n",
    "    return predicted_class, confidence"
   ]
  },
  {
   "cell_type": "code",
   "execution_count": null,
   "metadata": {},
   "outputs": [],
   "source": [
    "plt.figure(figsize=(15, 15)) \n",
    "for images, labels in test_ds.take(1): \n",
    "    for i in range(9): \n",
    "        ax = plt.subplot(3, 3, i + 1)\n",
    "        plt.imshow(images[i].numpy().astype(\"uint8\")) \n",
    "        predicted_class, confidence = predict(model, images[i].numpy()) \n",
    "        actual_class = class_names[labels[i]] \n",
    "        plt.title(f\"Actual: {actual_class}, \\n Predicted: {predicted_class}.\\n Confidence: {confidence}%\")\n",
    "        plt.axis(\"off\")"
   ]
  },
  {
   "cell_type": "code",
   "execution_count": null,
   "metadata": {},
   "outputs": [],
   "source": [
    "model_ver = 2\n",
    "model.save(f\"../models/model-ver-{model_ver}\")"
   ]
  },
  {
   "cell_type": "code",
   "execution_count": null,
   "metadata": {},
   "outputs": [],
   "source": [
    "# Get true labels and predictions\n",
    "y_true = []\n",
    "y_pred = []\n",
    "\n",
    "for images, labels in test_ds:\n",
    "    predictions = model.predict(images)\n",
    "    y_true.extend(labels.numpy())  # True labels\n",
    "    y_pred.extend(np.argmax(predictions, axis=1))  # Predicted labels\n",
    "\n",
    "# Convert lists to numpy arrays\n",
    "y_true = np.array(y_true)\n",
    "y_pred = np.array(y_pred)\n",
    "\n",
    "# Create confusion matrix\n",
    "confusion_mtx = tf.math.confusion_matrix(y_true, y_pred)\n",
    "\n",
    "# Plot the confusion matrix (optional)\n",
    "plt.figure(figsize=(10, 8))\n",
    "plt.imshow(confusion_mtx, cmap='Blues')\n",
    "plt.title('Confusion Matrix')\n",
    "plt.ylabel('True Label')\n",
    "plt.xlabel('Predicted Label')\n",
    "plt.colorbar()\n",
    "plt.show()"
   ]
  }
 ],
 "metadata": {
  "kernelspec": {
   "display_name": "Python 3",
   "language": "python",
   "name": "python3"
  },
  "language_info": {
   "codemirror_mode": {
    "name": "ipython",
    "version": 3
   },
   "file_extension": ".py",
   "mimetype": "text/x-python",
   "name": "python",
   "nbconvert_exporter": "python",
   "pygments_lexer": "ipython3",
   "version": "3.10.11"
  }
 },
 "nbformat": 4,
 "nbformat_minor": 2
}
